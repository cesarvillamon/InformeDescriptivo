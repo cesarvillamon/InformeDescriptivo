{
 "cells": [
  {
   "cell_type": "code",
   "execution_count": 5,
   "id": "33a227b7",
   "metadata": {
    "scrolled": true
   },
   "outputs": [
    {
     "name": "stdout",
     "output_type": "stream",
     "text": [
      "Se realiza conteo general de registros de clientes por género\n",
      "genero_cli\n",
      "M    1640733\n",
      "F    1442612\n",
      "Name: count, dtype: int64\n",
      "**************************************************************\n",
      "Se realiza conteo general de registros de clientes por planes\n",
      "nombre_del_plan\n",
      "CREDIAGIL                         945833\n",
      "PERSONAL TASA FIJA S.DESEMPLEO    348055\n",
      "PREAPROBADO LIBRE INVERSION       222527\n",
      "LIBRE INVERSION DIG. TASA FIJA    117192\n",
      "CREDITO A LA MANO AUTOMATICO      109793\n",
      "                                   ...  \n",
      "CONS LIBRA INT TAS CERO CIR022         1\n",
      "CONS LIBRA INTRESE SUSP CIR022         1\n",
      "CARTERA COMERCIAL DIGITAL IBS          1\n",
      "CAMPANAS POLITICAS IBR                 1\n",
      "CESANTIAS IBR                          1\n",
      "Name: count, Length: 254, dtype: int64\n",
      "**************************************************************\n",
      "Se realiza conteo general de registros de clientes por segmento de cliente\n",
      "desc_seg\n",
      "PERSONAL          2649517\n",
      "PYME               315836\n",
      "SOCIAL              66569\n",
      "PLUS                20653\n",
      "INDEPENDIENTES      13178\n",
      "SIN SEGMENTO         8436\n",
      "PERSONAS             4290\n",
      "PREFERENCIAL         3609\n",
      "EMPRESARIAL          1247\n",
      "CORPORATIVO             9\n",
      "GOBIERNO                1\n",
      "Name: count, dtype: int64\n",
      "**************************************************************\n",
      "Se realiza conteo general de registros de clientes por tipo de pago prepago\n",
      "tipo_prepago\n",
      "PARCIAL    2437006\n",
      "TOTAL       646339\n",
      "Name: count, dtype: int64\n",
      "**************************************************************\n",
      "Se realiza conteo general de registros de clientes por tipo de cliente\n",
      "tipo_cli\n",
      "PERSONA NATURAL    3083345\n",
      "Name: count, dtype: int64\n",
      "**************************************************************\n",
      "Se realiza conteo general de registros de clientes por agrupación de edades:\n",
      "GrupoEdad\n",
      "0-18         965\n",
      "19-30     306911\n",
      "31-40     900433\n",
      "41-50     775960\n",
      "51+      1094316\n",
      "Name: count, dtype: int64\n"
     ]
    }
   ],
   "source": [
    "import matplotlib.pyplot as plt\n",
    "import seaborn as sns\n",
    "import pandas as pd\n",
    "import numpy as np\n",
    "from datetime import datetime\n",
    "from ydata_profiling import ProfileReport\n",
    "#Lectura de archivo\n",
    "df = pd.read_csv('prueba_base_prepagos_cd_d74e2eaf_20240213T105143 1.csv', low_memory=False)\n",
    "#Cálculo de dato que se considera importante\n",
    "df['Porcentaje'] = (df['monto_prepagado'] / df['monto_inicial_contrato']) * 100\n",
    "#Condiciones para limitar el dataframe según consideraciones propias\n",
    "condicion1 = df[df.genero_cli == 'M']\n",
    "condicion2 = df[df.genero_cli == 'F']\n",
    "# Aplicación de condiciones\n",
    "resultado = pd.concat([condicion1, condicion2], axis=0)\n",
    "resultado['tipo_prepago'] = resultado['tipo_prepago'].replace('parcial', 'PARCIAL')\n",
    "resultado['tipo_prepago'] = resultado['tipo_prepago'].replace('total', 'TOTAL')\n",
    "#Más condiciones\n",
    "porcentaje = resultado[resultado.Porcentaje<=100]\n",
    "print(\"Se realiza conteo general de registros de clientes por género\")\n",
    "print(porcentaje.genero_cli.value_counts())\n",
    "print(\"**************************************************************\")\n",
    "print(\"Se realiza conteo general de registros de clientes por planes\")\n",
    "print(porcentaje.nombre_del_plan.value_counts())\n",
    "print(\"**************************************************************\")\n",
    "print(\"Se realiza conteo general de registros de clientes por segmento de cliente\")\n",
    "print(porcentaje.desc_seg.value_counts())\n",
    "print(\"**************************************************************\")\n",
    "print(\"Se realiza conteo general de registros de clientes por tipo de pago prepago\")\n",
    "print(porcentaje.tipo_prepago.value_counts())\n",
    "print(\"**************************************************************\")\n",
    "print(\"Se realiza conteo general de registros de clientes por tipo de cliente\")\n",
    "print(porcentaje.tipo_cli.value_counts())\n",
    "print(\"**************************************************************\")\n",
    "pd.options.mode.chained_assignment = None\n",
    "#porcentaje.shape\n",
    "porcentaje['FechaNacimiento'] = pd.to_datetime(porcentaje['f_nacim_cli'], format='%Y%m%d', errors='coerce')\n",
    "# Calcular la edad\n",
    "hoy = datetime.now()\n",
    "porcentaje['EdadEnDias'] = (hoy - porcentaje['FechaNacimiento']).dt.days\n",
    "porcentaje['EdadEnAnios'] = porcentaje['EdadEnDias'] / 365.25 \n",
    "porcentaje.dropna(subset=['FechaNacimiento'])\n",
    "# Definir las agrupaciones de edades\n",
    "bins = [0, 18, 30, 40, 50, 100]\n",
    "labels = ['0-18', '19-30', '31-40', '41-50', '51+']\n",
    "porcentaje['GrupoEdad'] = pd.cut(porcentaje['EdadEnAnios'], bins=bins, labels=labels, right=False)\n",
    "# Contar registros por agrupación de edades\n",
    "conteo_por_edad = porcentaje['GrupoEdad'].value_counts().sort_index()\n",
    "# Mostrar el conteo por agrupación de edades\n",
    "print(\"Se realiza conteo general de registros de clientes por agrupación de edades:\")\n",
    "print(conteo_por_edad)"
   ]
  },
  {
   "cell_type": "code",
   "execution_count": 1,
   "id": "0a2f4b87",
   "metadata": {},
   "outputs": [
    {
     "name": "stderr",
     "output_type": "stream",
     "text": [
      "C:\\ProgramData\\anaconda3\\Lib\\site-packages\\pandas\\core\\arrays\\masked.py:60: UserWarning: Pandas requires version '1.3.6' or newer of 'bottleneck' (version '1.3.5' currently installed).\n",
      "  from pandas.core import (\n",
      "C:\\Users\\cesar\\AppData\\Local\\Temp\\ipykernel_8032\\469816715.py:46: SettingWithCopyWarning: \n",
      "A value is trying to be set on a copy of a slice from a DataFrame.\n",
      "Try using .loc[row_indexer,col_indexer] = value instead\n",
      "\n",
      "See the caveats in the documentation: https://pandas.pydata.org/pandas-docs/stable/user_guide/indexing.html#returning-a-view-versus-a-copy\n",
      "  porcentaje['Rango'] = pd.cut(df['Porcentaje'], bins=bordes,\n",
      "C:\\ProgramData\\anaconda3\\Lib\\site-packages\\seaborn\\categorical.py:641: FutureWarning: The default of observed=False is deprecated and will be changed to True in a future version of pandas. Pass observed=False to retain current behavior or observed=True to adopt the future default and silence this warning.\n",
      "  grouped_vals = vals.groupby(grouper)\n",
      "C:\\ProgramData\\anaconda3\\Lib\\site-packages\\seaborn\\categorical.py:641: FutureWarning: The default of observed=False is deprecated and will be changed to True in a future version of pandas. Pass observed=False to retain current behavior or observed=True to adopt the future default and silence this warning.\n",
      "  grouped_vals = vals.groupby(grouper)\n"
     ]
    },
    {
     "data": {
      "image/png": "[encoded data removed]",
      "text/plain": [
       "<Figure size 640x480 with 1 Axes>"
      ]
     },
     "metadata": {},
     "output_type": "display_data"
    }
   ],
   "source": [
    "import matplotlib.pyplot as plt\n",
    "import seaborn as sns\n",
    "import pandas as pd\n",
    "import numpy as np\n",
    "\n",
    "df = pd.read_csv('prueba_base_prepagos_cd_d74e2eaf_20240213T105143 1.csv', low_memory=False)\n",
    "df['Porcentaje'] = (df['monto_prepagado'] / df['monto_inicial_contrato']) * 100\n",
    "condicion1 = df[df.genero_cli == 'M']\n",
    "condicion2 = df[df.genero_cli == 'F']\n",
    "condicion3 = df[df.monto_prepagado > df.monto_inicial_contrato ]\n",
    "resultado = pd.concat([condicion1, condicion2], axis=0)\n",
    "porcentaje = resultado[resultado.Porcentaje<=100]\n",
    "bordes = [0, 10, 20, 30, 40, 50, 60, 70, 80, 90, 100]\n",
    "porcentaje['Rango'] = pd.cut(df['Porcentaje'], bins=bordes,\n",
    "                     labels=['0-10', '10-20', '20-30', '30-40', '40-50', '50-60', '60-70', '70-80', '80-90', '90-100'])\n",
    "df_filtrado = porcentaje[(porcentaje['genero_cli'] == 'M') | (porcentaje['genero_cli'] == 'F')]\n",
    "sns.countplot(x='Rango', hue='genero_cli', data=df_filtrado, palette='viridis')\n",
    "plt.title('Distribución de Porcentajes por Género')\n",
    "plt.xlabel('Rango de Porcentajes')\n",
    "plt.ylabel('Número de Personas')\n",
    "plt.legend(title='Género')\n",
    "plt.show()"
   ]
  },
  {
   "cell_type": "code",
   "execution_count": null,
   "id": "0cd152bb",
   "metadata": {},
   "outputs": [],
   "source": []
  }
 ],
 "metadata": {
  "kernelspec": {
   "display_name": "Python 3 (ipykernel)",
   "language": "python",
   "name": "python3"
  },
  "language_info": {
   "codemirror_mode": {
    "name": "ipython",
    "version": 3
   },
   "file_extension": ".py",
   "mimetype": "text/x-python",
   "name": "python",
   "nbconvert_exporter": "python",
   "pygments_lexer": "ipython3",
   "version": "3.11.5"
  }
 },
 "nbformat": 4,
 "nbformat_minor": 5
}
